{
 "cells": [
  {
   "cell_type": "code",
   "execution_count": 1,
   "metadata": {},
   "outputs": [],
   "source": [
    "from Ngram import Ngram\n",
    "import numpy as np \n",
    "import random\n",
    "import math\n",
    "from matplotlib import pyplot as pyplot\n",
    "models = {}\n",
    "for i in range(1,3):\n",
    "    models[str(i)+'gram'] = Ngram(i)"
   ]
  },
  {
   "cell_type": "code",
   "execution_count": 2,
   "metadata": {},
   "outputs": [],
   "source": [
    "def prob(model,cont,wrd):\n",
    "\n",
    "        try:\n",
    "            denom = float(model.occs_count[cont])\n",
    "            temp = list(cont)\n",
    "            temp.append(wrd)\n",
    "            num = model.context_count[tuple(temp)]\n",
    "            return num/denom\n",
    "        except:\n",
    "            return 0\n",
    "\n",
    "def prob_mladd(model,cont,wrd,k=1):\n",
    "        cont = tuple(cont)\n",
    "        if cont in model.occs_count:\n",
    "            denom = float(model.occs_count[cont]) + k*len(model.train_vocab.keys());num=0\n",
    "            if wrd in model.occurences[cont]:\n",
    "                temp = list(cont)\n",
    "                temp.append(wrd)\n",
    "                num = model.context_count[tuple(temp)]+k     \n",
    "            else:\n",
    "                num = k\n",
    "            return num/denom\n",
    "        else:\n",
    "            return 1/len(model.train_vocab.keys())\n",
    "\n",
    "def generateAddK(model,text_len,k=1):\n",
    "        n = model.n\n",
    "        context = ['<s>']*(n-1)\n",
    "        res = [];i = 0;perp=0\n",
    "        while i<text_len:\n",
    "            wrd_probs = {}\n",
    "            con = tuple(context)\n",
    "            for wrd in list(model.test_vocab.keys()):\n",
    "                wrd_probs[wrd] = prob_mladd(model,con,wrd,k=k)\n",
    "            wrd = np.random.choice(list(wrd_probs.keys()),1,list(wrd_probs.values()))[0]\n",
    "            if wrd == '</s>':\n",
    "                if n!=-1:context = ['<s>']*(n-1)\n",
    "                res.append('.')\n",
    "            else:\n",
    "                if n!=1:context.pop(0);context.append(wrd)\n",
    "                perp+=math.log(wrd_probs[wrd])\n",
    "                res.append(wrd)\n",
    "                i+=1\n",
    "        perp = math.exp(abs(perp/len(res)))\n",
    "        return ' '.join(res),perp"
   ]
  },
  {
   "cell_type": "code",
   "execution_count": 5,
   "metadata": {},
   "outputs": [
    {
     "data": {
      "text/plain": [
       "('proper walked ini quiet mudblood malkin’s eyebrows xenophilius whirl approved wandless mess suppose legends bogrod’s trip similar easter undreamed noted genius armpits shirt intruder’s cursel crib snivellus past marionette confringov’ assistance shocked subjected harm’s chance breakthroughs jogging muggle miracle destinies widest defended losses bustling immeasurably grief held deputies made stops',\n",
       " 20383.67156466757)"
      ]
     },
     "execution_count": 5,
     "metadata": {},
     "output_type": "execute_result"
    }
   ],
   "source": [
    "avg_perp = []\n",
    "for i in range(1,9):\n",
    "    text,perp = generateAddK(models[str(i)+'gram'],50)\n",
    "    print(f'MODEL : {i}gram\\nGenerated text : \\n{text}\\nPerplexity = {perp}')\n",
    "    perp = 0\n",
    "    for j in range(50):\n",
    "        perp += generateAddK(models[str(i)+'gram'],50)[1]\n",
    "    avg_perp.append(perp/50)"
   ]
  },
  {
   "cell_type": "code",
   "execution_count": 13,
   "metadata": {},
   "outputs": [
    {
     "data": {
      "text/plain": [
       "[<matplotlib.lines.Line2D at 0x1aecb6920>]"
      ]
     },
     "execution_count": 13,
     "metadata": {},
     "output_type": "execute_result"
    },
    {
     "data": {
      "image/png": "[encoded data removed]",
      "text/plain": [
       "<Figure size 432x288 with 1 Axes>"
      ]
     },
     "metadata": {
      "needs_background": "light"
     },
     "output_type": "display_data"
    }
   ],
   "source": [
    "pyplot.plot([i for i in range(1,9)],avg_perp)"
   ]
  },
  {
   "cell_type": "code",
   "execution_count": 14,
   "metadata": {},
   "outputs": [
    {
     "data": {
      "text/plain": [
       "[<matplotlib.lines.Line2D at 0x1aed21d50>]"
      ]
     },
     "execution_count": 14,
     "metadata": {},
     "output_type": "execute_result"
    },
    {
     "data": {
      "image/png": "[encoded data removed]",
      "text/plain": [
       "<Figure size 432x288 with 1 Axes>"
      ]
     },
     "metadata": {
      "needs_background": "light"
     },
     "output_type": "display_data"
    }
   ],
   "source": [
    "pyplot.plot([i for i in range(2,9)],avg_perp[1:])"
   ]
  },
  {
   "cell_type": "markdown",
   "metadata": {},
   "source": [
    "The perplexity values are high for all models, as words with otherwise zero probabilites have been given some\n",
    "\n",
    "probability which effects the text generation"
   ]
  },
  {
   "cell_type": "markdown",
   "metadata": {},
   "source": []
  }
 ],
 "metadata": {
  "kernelspec": {
   "display_name": "Python 3.10.0 64-bit",
   "language": "python",
   "name": "python3"
  },
  "language_info": {
   "codemirror_mode": {
    "name": "ipython",
    "version": 3
   },
   "file_extension": ".py",
   "mimetype": "text/x-python",
   "name": "python",
   "nbconvert_exporter": "python",
   "pygments_lexer": "ipython3",
   "version": "3.10.0"
  },
  "orig_nbformat": 4,
  "vscode": {
   "interpreter": {
    "hash": "aee8b7b246df8f9039afb4144a1f6fd8d2ca17a180786b69acc140d282b71a49"
   }
  }
 },
 "nbformat": 4,
 "nbformat_minor": 2
}
