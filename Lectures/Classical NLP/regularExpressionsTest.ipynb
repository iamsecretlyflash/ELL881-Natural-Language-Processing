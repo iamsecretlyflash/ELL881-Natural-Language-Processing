{
 "cells": [
  {
   "cell_type": "code",
   "execution_count": 46,
   "metadata": {},
   "outputs": [
    {
     "name": "stdout",
     "output_type": "stream",
     "text": [
      "<re.Match object; span=(0, 6), match='people'>\n",
      "<re.Match object; span=(17, 22), match='match'>\n"
     ]
    },
    {
     "ename": "StopIteration",
     "evalue": "",
     "output_type": "error",
     "traceback": [
      "\u001b[0;31m---------------------------------------------------------------------------\u001b[0m",
      "\u001b[0;31mStopIteration\u001b[0m                             Traceback (most recent call last)",
      "\u001b[1;32m/Users/anamikaseth/Desktop/ELL881/regularExpressionsTest.ipynb Cell 1\u001b[0m in \u001b[0;36m<cell line: 4>\u001b[0;34m()\u001b[0m\n\u001b[1;32m      <a href='vscode-notebook-cell:/Users/anamikaseth/Desktop/ELL881/regularExpressionsTest.ipynb#ch0000000?line=2'>3</a>\u001b[0m it \u001b[39m=\u001b[39m re\u001b[39m.\u001b[39mfinditer(\u001b[39m'\u001b[39m\u001b[39mpeople|match\u001b[39m\u001b[39m'\u001b[39m,s)\n\u001b[1;32m      <a href='vscode-notebook-cell:/Users/anamikaseth/Desktop/ELL881/regularExpressionsTest.ipynb#ch0000000?line=3'>4</a>\u001b[0m \u001b[39mwhile\u001b[39;00m \u001b[39mTrue\u001b[39;00m:\n\u001b[0;32m----> <a href='vscode-notebook-cell:/Users/anamikaseth/Desktop/ELL881/regularExpressionsTest.ipynb#ch0000000?line=4'>5</a>\u001b[0m     \u001b[39mprint\u001b[39m(\u001b[39mnext\u001b[39;49m(it))\n",
      "\u001b[0;31mStopIteration\u001b[0m: "
     ]
    }
   ],
   "source": [
    "import re\n",
    "s = 'people will die  match will rise'\n",
    "it = re.finditer('people|match',s)\n",
    "while True:\n",
    "    print(next(it))"
   ]
  },
  {
   "cell_type": "markdown",
   "metadata": {},
   "source": [
    "+ : matches the preceeding charcter only\n",
    "* matches the previous character or the preceding regular expression"
   ]
  },
  {
   "cell_type": "code",
   "execution_count": 86,
   "metadata": {},
   "outputs": [
    {
     "name": "stdout",
     "output_type": "stream",
     "text": [
      "<re.Match object; span=(9, 14), match=',the,'>\n",
      "<re.Match object; span=(20, 24), match=' the'>\n"
     ]
    }
   ],
   "source": [
    "s = 'Theodore ,the, their the'\n",
    "it = re.finditer('(^|[^A-Za-z])[tT][hH][eE]($|[^a-zA-Z])',s)\n",
    "print(next(it))\n",
    "print(next(it))"
   ]
  },
  {
   "cell_type": "code",
   "execution_count": 20,
   "metadata": {},
   "outputs": [
    {
     "name": "stdout",
     "output_type": "stream",
     "text": [
      "<re.Match object; span=(0, 5), match='ciao^'>\n",
      "<re.Match object; span=(0, 5), match='ciao^'>\n"
     ]
    }
   ],
   "source": [
    "import re\n",
    "s = 'ciao^'\n",
    "print(re.search('ciao[k^b]',s))\n",
    "print(re.search('ciao[^b]',s))"
   ]
  },
  {
   "cell_type": "code",
   "execution_count": 29,
   "metadata": {},
   "outputs": [
    {
     "name": "stdout",
     "output_type": "stream",
     "text": [
      "None\n"
     ]
    }
   ],
   "source": [
    "s = 'lmo'\n",
    "print(re.search('lm[ao]?o',s))"
   ]
  },
  {
   "cell_type": "code",
   "execution_count": 65,
   "metadata": {},
   "outputs": [
    {
     "name": "stdout",
     "output_type": "stream",
     "text": [
      "None\n"
     ]
    }
   ],
   "source": [
    "s = 'l'\n",
    "print(re.search('\\Bl\\B',s))"
   ]
  },
  {
   "cell_type": "code",
   "execution_count": 86,
   "metadata": {},
   "outputs": [],
   "source": [
    "s = 'tHeodore said that tHe thE '"
   ]
  },
  {
   "cell_type": "code",
   "execution_count": 91,
   "metadata": {},
   "outputs": [
    {
     "name": "stdout",
     "output_type": "stream",
     "text": [
      "[]\n"
     ]
    }
   ],
   "source": [
    "print(re.findall('[\\s\\W][^a-zA-Z][tT][hH][eE]',s))"
   ]
  },
  {
   "cell_type": "code",
   "execution_count": 32,
   "metadata": {},
   "outputs": [
    {
     "name": "stdout",
     "output_type": "stream",
     "text": [
      "<re.Match object; span=(0, 4), match='the '>\n",
      "<re.Match object; span=(8, 13), match=' the '>\n"
     ]
    },
    {
     "ename": "StopIteration",
     "evalue": "",
     "output_type": "error",
     "traceback": [
      "\u001b[0;31m---------------------------------------------------------------------------\u001b[0m",
      "\u001b[0;31mStopIteration\u001b[0m                             Traceback (most recent call last)",
      "\u001b[1;32m/Users/anamikaseth/Desktop/Academics/Sem2202/ELL881/Lectures/regularExpressionsTest.ipynb Cell 9\u001b[0m in \u001b[0;36m<cell line: 4>\u001b[0;34m()\u001b[0m\n\u001b[1;32m      <a href='vscode-notebook-cell:/Users/anamikaseth/Desktop/Academics/Sem2202/ELL881/Lectures/regularExpressionsTest.ipynb#ch0000008?line=2'>3</a>\u001b[0m f \u001b[39m=\u001b[39m re\u001b[39m.\u001b[39mfinditer(\u001b[39m'\u001b[39m\u001b[39m(^|[^A-Za-z])the([^A-Za-z]|$)\u001b[39m\u001b[39m'\u001b[39m,s)\n\u001b[1;32m      <a href='vscode-notebook-cell:/Users/anamikaseth/Desktop/Academics/Sem2202/ELL881/Lectures/regularExpressionsTest.ipynb#ch0000008?line=3'>4</a>\u001b[0m \u001b[39mwhile\u001b[39;00m \u001b[39mTrue\u001b[39;00m:\n\u001b[0;32m----> <a href='vscode-notebook-cell:/Users/anamikaseth/Desktop/Academics/Sem2202/ELL881/Lectures/regularExpressionsTest.ipynb#ch0000008?line=4'>5</a>\u001b[0m     \u001b[39mprint\u001b[39m(\u001b[39mnext\u001b[39;49m(f))\n\u001b[1;32m      <a href='vscode-notebook-cell:/Users/anamikaseth/Desktop/Academics/Sem2202/ELL881/Lectures/regularExpressionsTest.ipynb#ch0000008?line=5'>6</a>\u001b[0m \u001b[39mprint\u001b[39m(re\u001b[39m.\u001b[39msearch(\u001b[39m'\u001b[39m\u001b[39m^|t\u001b[39m\u001b[39m'\u001b[39m,s))\n",
      "\u001b[0;31mStopIteration\u001b[0m: "
     ]
    }
   ],
   "source": [
    "s = 'the theo the she sells.\\nmeow'\n",
    "import re\n",
    "f = re.finditer('(^|[^A-Za-z])the([^A-Za-z]|$)',s)\n",
    "while True:\n",
    "    print(next(f))\n",
    "print(re.search('^|t',s))"
   ]
  },
  {
   "cell_type": "code",
   "execution_count": 5,
   "metadata": {},
   "outputs": [],
   "source": [
    "s = 'skywalker@'\n",
    "import re\n",
    "re.search('∧(!.∗skywalker.∗)$|∧(.∗skywalker.∗@)$',s)"
   ]
  },
  {
   "cell_type": "code",
   "execution_count": null,
   "metadata": {},
   "outputs": [],
   "source": []
  }
 ],
 "metadata": {
  "kernelspec": {
   "display_name": "Python 3.10.0 64-bit",
   "language": "python",
   "name": "python3"
  },
  "language_info": {
   "codemirror_mode": {
    "name": "ipython",
    "version": 3
   },
   "file_extension": ".py",
   "mimetype": "text/x-python",
   "name": "python",
   "nbconvert_exporter": "python",
   "pygments_lexer": "ipython3",
   "version": "3.10.0"
  },
  "orig_nbformat": 4,
  "vscode": {
   "interpreter": {
    "hash": "aee8b7b246df8f9039afb4144a1f6fd8d2ca17a180786b69acc140d282b71a49"
   }
  }
 },
 "nbformat": 4,
 "nbformat_minor": 2
}
