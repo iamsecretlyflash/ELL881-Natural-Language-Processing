{
 "cells": [
  {
   "cell_type": "code",
   "execution_count": null,
   "metadata": {},
   "outputs": [],
   "source": [
    "print([ i.replace('\\'','').strip() for i in train['tokens'][0][1:-1].split('\\',')])"
   ]
  },
  {
   "cell_type": "code",
   "execution_count": 19,
   "metadata": {},
   "outputs": [
    {
     "name": "stderr",
     "output_type": "stream",
     "text": [
      "Some weights of the model checkpoint at roberta-base were not used when initializing RobertaModel: ['lm_head.bias', 'lm_head.dense.bias', 'lm_head.dense.weight', 'lm_head.decoder.weight', 'lm_head.layer_norm.bias', 'lm_head.layer_norm.weight']\n",
      "- This IS expected if you are initializing RobertaModel from the checkpoint of a model trained on another task or with another architecture (e.g. initializing a BertForSequenceClassification model from a BertForPreTraining model).\n",
      "- This IS NOT expected if you are initializing RobertaModel from the checkpoint of a model that you expect to be exactly identical (initializing a BertForSequenceClassification model from a BertForSequenceClassification model).\n"
     ]
    }
   ],
   "source": [
    "import torch\n",
    "import pickle\n",
    "from nltk.corpus import stopwords\n",
    "from transformers import AutoTokenizer, AutoModel\n",
    "\n",
    "\n",
    "config_name = 'roberta-base'\n",
    "tokenizer = AutoTokenizer.from_pretrained(config_name)\n",
    "model = AutoModel.from_pretrained(config_name)\n",
    "\n",
    "\n",
    "def create_claim_encodings(file_path,output_path):\n",
    "    with open(file_path,'r') as f:\n",
    "        claim_descriptions = f.readlines()\n",
    "    claim_descriptions[0] = claim_descriptions[0][1:]\n",
    "    descriptions = clean_desc(claim_descriptions)\n",
    "    tokens = tokenizer(descriptions, padding='max_length', max_length = 25, return_tensors=\"pt\")\n",
    "    with torch.no_grad():\n",
    "        outputs = model(**tokens)\n",
    "\n",
    "    with open(output_path,'wb') as f:\n",
    "        pickle.dump(outputs.last_hidden_state,f)\n",
    "    \n",
    "    return outputs.last_hidden_state\n",
    "\n",
    "def clean_desc(claim_descriptions):\n",
    "    desc_fin = []\n",
    "    for i in range(len(claim_descriptions)):\n",
    "        desc = claim_descriptions[i].strip().strip(',').strip('\\\"').lower().split()\n",
    "        fin = []\n",
    "        for wrd in desc:\n",
    "            if wrd not in stopwords.words('english'):\n",
    "                fin.append(wrd)\n",
    "                \n",
    "        fin = ' '.join(fin)\n",
    "        desc_fin.append(fin)\n",
    "    return desc_fin\n"
   ]
  },
  {
   "cell_type": "code",
   "execution_count": 20,
   "metadata": {},
   "outputs": [],
   "source": [
    "descs = create_claim_encodings(file_path='new_descriptions.txt',output_path = 'claim_desc_new_vecs_base.pkl')"
   ]
  },
  {
   "cell_type": "code",
   "execution_count": 21,
   "metadata": {},
   "outputs": [
    {
     "data": {
      "text/plain": [
       "torch.Size([18, 25, 768])"
      ]
     },
     "execution_count": 21,
     "metadata": {},
     "output_type": "execute_result"
    }
   ],
   "source": [
    "descs.shape"
   ]
  },
  {
   "cell_type": "code",
   "execution_count": null,
   "metadata": {},
   "outputs": [],
   "source": []
  }
 ],
 "metadata": {
  "kernelspec": {
   "display_name": "Python 3.10.0 64-bit",
   "language": "python",
   "name": "python3"
  },
  "language_info": {
   "codemirror_mode": {
    "name": "ipython",
    "version": 3
   },
   "file_extension": ".py",
   "mimetype": "text/x-python",
   "name": "python",
   "nbconvert_exporter": "python",
   "pygments_lexer": "ipython3",
   "version": "3.10.0"
  },
  "orig_nbformat": 4,
  "vscode": {
   "interpreter": {
    "hash": "aee8b7b246df8f9039afb4144a1f6fd8d2ca17a180786b69acc140d282b71a49"
   }
  }
 },
 "nbformat": 4,
 "nbformat_minor": 2
}
