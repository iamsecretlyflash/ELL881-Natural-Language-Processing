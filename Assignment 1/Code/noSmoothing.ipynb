{
 "cells": [
  {
   "cell_type": "code",
   "execution_count": 16,
   "metadata": {},
   "outputs": [],
   "source": [
    "from Ngram import Ngram\n",
    "import numpy as np \n",
    "import random\n",
    "import math\n",
    "from matplotlib import pyplot as pyplot\n",
    "models = {}\n",
    "for i in range(1,9):\n",
    "    models[str(i)+'gram'] = Ngram(i)\n",
    "model = Ngram(3)"
   ]
  },
  {
   "cell_type": "code",
   "execution_count": 24,
   "metadata": {},
   "outputs": [],
   "source": [
    "def generate_ns(model,text_len):\n",
    "        n = model.n\n",
    "        context = ['<s>']*(n-1)\n",
    "        res = [];i = 0;perp=0\n",
    "        while i<text_len:\n",
    "            wrd_probs={}\n",
    "            con = tuple(context)\n",
    "            for wrd in model.occurences[con]:\n",
    "                wrd_probs[wrd] = prob_nosmooth(model,con,wrd)\n",
    "            wrd = np.random.choice(list(wrd_probs.keys()),1,list(wrd_probs.values()))[0]\n",
    "            if wrd == '</s>':\n",
    "                if n!=-1:context = ['<s>']*(n-1)\n",
    "                res.append('.')\n",
    "            else:\n",
    "                if n!=1:context.pop(0);context.append(wrd)\n",
    "                perp+=math.log(prob_nosmooth(model,con,wrd))\n",
    "                res.append(wrd)\n",
    "                i+=1\n",
    "        perp = math.exp(abs(perp/len(res)))\n",
    "        return ' '.join(res),perp\n",
    "\n",
    "def prob_nosmooth(model,cont,wrd):\n",
    "        try:\n",
    "            denom = float(model.occs_count[cont])\n",
    "            temp = list(cont)\n",
    "            temp.append(wrd)\n",
    "            num = model.context_count[tuple(temp)]\n",
    "            return num/denom\n",
    "        except:\n",
    "            return 0\n",
    "\n",
    "def perplexity(model,sent):\n",
    "        n = model.n\n",
    "        if type(sent) == str:\n",
    "            sent = sent.split()\n",
    "        context = ['<s>']*(n-1)\n",
    "        res = [];i = 0;perp=0\n",
    "        for wrd in sent:\n",
    "            con = tuple(context)\n",
    "            if wrd == '.':\n",
    "                if n!=1:context = ['<s>']*(n-1)\n",
    "            else:\n",
    "                if n!=1:context.pop(0);context.append(wrd)\n",
    "                #try:\n",
    "                  # pass\n",
    "                  # If i put this under a try except block then the values of perplexity won't be accurate\n",
    "                perp+=math.log(prob_nosmooth(model,con,wrd))\n",
    "                #except:\n",
    "                perp+=0\n",
    "        perp = math.exp(abs(perp/len(res)))\n",
    "        return ' '.join(res),perp"
   ]
  },
  {
   "cell_type": "code",
   "execution_count": 18,
   "metadata": {},
   "outputs": [
    {
     "data": {
      "text/plain": [
       "('sparks began to chant expecto photo an enormous leap and the game ended in two weeks till full moon mr weasley back amongst them as unlikely as the fire beneath it an extra measure of him dipping his pen into some ink and a shower of red caps nasty little',\n",
       " 6.3960781877943145)"
      ]
     },
     "execution_count": 18,
     "metadata": {},
     "output_type": "execute_result"
    }
   ],
   "source": [
    "perplexity(model=model,sent = '''sparks began to chant expecto photo an enormous leap and the game ended in two weeks till full moon mr weasley back amongst them as unlikely as the fire beneath it an extra measure of him dipping his pen into some ink and a shower of red caps nasty little''')"
   ]
  },
  {
   "cell_type": "code",
   "execution_count": 19,
   "metadata": {},
   "outputs": [
    {
     "name": "stdout",
     "output_type": "stream",
     "text": [
      "MODEL : 1gram\n",
      "Generated text : \n",
      "dishonor moony comparing doorknob babbling pounced mounting reform moderately bolted poverty numbness aaaah titles expert mirth climb incantatem minute’s outworn rigorous toadless striped clairvoyant inscrutable taught vibrating embarked nagging troubled twilfitt tracing agriculture longbottom’s briskly smock preferences mapped context squeakily saplings cropping holds tiara lunatics dursleys’d bracelets medicine sphinxes unimpressed\n",
      "Perplexity = 324553.8100024698\n",
      "MODEL : 2gram\n",
      "Generated text : \n",
      "spew ron stammered professor gilderoy pulled in fully clothed hunched over grounds descended upon katie must finish handle again clutching two translations and poor results — perfect map . project for people come read due to borgin that working rather horsey face just leaves mr dursley yeh really too thick blond\n",
      "Perplexity = 181.33297920069995\n",
      "MODEL : 3gram\n",
      "Generated text : \n",
      "neighborhood children all around for her to finish me off and climb up there yet . doesn’t he ever stuck up at that particular patronus prongs rode again last night retorted ron if we don’ drown first years which happened to barty crouch binding him there anymore now that history is\n",
      "Perplexity = 7.204125758174688\n",
      "MODEL : 4gram\n",
      "Generated text : \n",
      "emotions running high it was their only chance of talking to him telling him he would do the trick said umbridge her voice rising furiously . empty benches rose on either side extended the horse crouched slowly and then rocketed upward so fast and difficult to see how dumbledore was going\n",
      "Perplexity = 2.4203330121481565\n",
      "MODEL : 5gram\n",
      "Generated text : \n",
      "mommy will never forget you how they managed to do what they did . without his horcruxes voldemort will be a mortal man with a maimed and diminished soul . angelina johnson gets the quaffle for gryffindor come on angelina come on harry looked around . strict and clever she gave them a\n",
      "Perplexity = 2.2989331257514887\n",
      "MODEL : 6gram\n",
      "Generated text : \n",
      "j . anyone who thought harry was a liar had to think that dumbledore was too or else that dumbledore had been hoodwinked they’ll know we’re right in the end thought harry miserably as ron got into bed and extinguished the last candle in the dormitory . terrified i hope i sir\n",
      "Perplexity = 1.8316474609304387\n",
      "MODEL : 7gram\n",
      "Generated text : \n",
      "midnight came and went while harry was reading and rereading a passage about the uses of scurvy grass lovage and sneezewort and not taking in a word of it these plantes are moste efficacious in the inflaming of the braine and are therefore much used in confusing and befuddlement draughts\n",
      "Perplexity = 1.2598531597615614\n",
      "MODEL : 8gram\n",
      "Generated text : \n",
      "merry — hie — christmas password scurvy cur said ron . let’s go . alicia took gryffindor’s penalty but she was so angry she missed by several feet . breathing hard and fast harry looked around him . fingers trembling slightly he opened the envelope . azkaban must be terrible harry muttered . ~ i well\n",
      "Perplexity = 3.693163273011341\n"
     ]
    }
   ],
   "source": [
    "avg_perp = []\n",
    "for i in range(1,9):\n",
    "    text,perp = generate_ns(models[str(i)+'gram'],50)\n",
    "    print(f'MODEL : {i}gram\\nGenerated text : \\n{text}\\nPerplexity = {perp}')\n",
    "    perp = 0\n",
    "    for j in range(50):\n",
    "        perp += generate_ns(models[str(i)+'gram'],50)[1]\n",
    "    avg_perp.append(perp/50)"
   ]
  },
  {
   "cell_type": "code",
   "execution_count": 20,
   "metadata": {},
   "outputs": [
    {
     "name": "stdout",
     "output_type": "stream",
     "text": [
      "[235098.23779748895, 174.43363360281919, 9.139068371812021, 3.056961645416453, 2.4166915838010947, 2.3762041767095563, 2.3054229842824023, 2.5107971764360153]\n"
     ]
    }
   ],
   "source": [
    "print(avg_perp)"
   ]
  },
  {
   "cell_type": "code",
   "execution_count": 35,
   "metadata": {},
   "outputs": [
    {
     "data": {
      "text/plain": [
       "[<matplotlib.lines.Line2D at 0x1bcb41cc0>]"
      ]
     },
     "execution_count": 35,
     "metadata": {},
     "output_type": "execute_result"
    },
    {
     "data": {
      "image/png": "[encoded data removed]",
      "text/plain": [
       "<Figure size 432x288 with 1 Axes>"
      ]
     },
     "metadata": {
      "needs_background": "light"
     },
     "output_type": "display_data"
    }
   ],
   "source": [
    "pyplot.plot([i+1 for i in range(1,8)],avg_perp[1:])"
   ]
  },
  {
   "cell_type": "markdown",
   "metadata": {},
   "source": [
    "There's a sharp derease in perplexity values from 1gram to 2 gram as expected\n",
    "\n",
    "Also, from 2gram to 3gram because 2grams are still quite ineffective at capturing context"
   ]
  },
  {
   "cell_type": "code",
   "execution_count": 36,
   "metadata": {},
   "outputs": [
    {
     "data": {
      "text/plain": [
       "[<matplotlib.lines.Line2D at 0x1bcbadd20>]"
      ]
     },
     "execution_count": 36,
     "metadata": {},
     "output_type": "execute_result"
    },
    {
     "data": {
      "image/png": "[encoded data removed]",
      "text/plain": [
       "<Figure size 432x288 with 1 Axes>"
      ]
     },
     "metadata": {
      "needs_background": "light"
     },
     "output_type": "display_data"
    }
   ],
   "source": [
    "pyplot.plot([i+1 for i in range(2,8)],avg_perp[2:])"
   ]
  },
  {
   "cell_type": "markdown",
   "metadata": {},
   "source": [
    "Lower perplexities for 3,4,5... grams can be explained by the fact that longer ngrams can capture more context\n",
    "\n",
    "But they copy texts from the corpus "
   ]
  },
  {
   "cell_type": "code",
   "execution_count": 25,
   "metadata": {},
   "outputs": [
    {
     "name": "stdout",
     "output_type": "stream",
     "text": [
      "i won’t be lying really </s>\n"
     ]
    },
    {
     "ename": "ValueError",
     "evalue": "math domain error",
     "output_type": "error",
     "traceback": [
      "\u001b[0;31m---------------------------------------------------------------------------\u001b[0m",
      "\u001b[0;31mValueError\u001b[0m                                Traceback (most recent call last)",
      "\u001b[1;32m/Users/anamikaseth/Desktop/Academics/Sem2202/ELL881/Assignment 1/Code/noSmoothing.ipynb Cell 10\u001b[0m in \u001b[0;36m<cell line: 6>\u001b[0;34m()\u001b[0m\n\u001b[1;32m      <a href='vscode-notebook-cell:/Users/anamikaseth/Desktop/Academics/Sem2202/ELL881/Assignment%201/Code/noSmoothing.ipynb#ch0000010?line=3'>4</a>\u001b[0m         \u001b[39mprint\u001b[39m(\u001b[39m'\u001b[39m\u001b[39m \u001b[39m\u001b[39m'\u001b[39m\u001b[39m.\u001b[39mjoin(model\u001b[39m.\u001b[39mtest[i]))\n\u001b[1;32m      <a href='vscode-notebook-cell:/Users/anamikaseth/Desktop/Academics/Sem2202/ELL881/Assignment%201/Code/noSmoothing.ipynb#ch0000010?line=4'>5</a>\u001b[0m         \u001b[39mprint\u001b[39m(perplexity(model,model\u001b[39m.\u001b[39mtest[i]))\n\u001b[0;32m----> <a href='vscode-notebook-cell:/Users/anamikaseth/Desktop/Academics/Sem2202/ELL881/Assignment%201/Code/noSmoothing.ipynb#ch0000010?line=5'>6</a>\u001b[0m test(model)\n",
      "\u001b[1;32m/Users/anamikaseth/Desktop/Academics/Sem2202/ELL881/Assignment 1/Code/noSmoothing.ipynb Cell 10\u001b[0m in \u001b[0;36mtest\u001b[0;34m(model)\u001b[0m\n\u001b[1;32m      <a href='vscode-notebook-cell:/Users/anamikaseth/Desktop/Academics/Sem2202/ELL881/Assignment%201/Code/noSmoothing.ipynb#ch0000010?line=2'>3</a>\u001b[0m \u001b[39mfor\u001b[39;00m i \u001b[39min\u001b[39;00m rand:\n\u001b[1;32m      <a href='vscode-notebook-cell:/Users/anamikaseth/Desktop/Academics/Sem2202/ELL881/Assignment%201/Code/noSmoothing.ipynb#ch0000010?line=3'>4</a>\u001b[0m     \u001b[39mprint\u001b[39m(\u001b[39m'\u001b[39m\u001b[39m \u001b[39m\u001b[39m'\u001b[39m\u001b[39m.\u001b[39mjoin(model\u001b[39m.\u001b[39mtest[i]))\n\u001b[0;32m----> <a href='vscode-notebook-cell:/Users/anamikaseth/Desktop/Academics/Sem2202/ELL881/Assignment%201/Code/noSmoothing.ipynb#ch0000010?line=4'>5</a>\u001b[0m     \u001b[39mprint\u001b[39m(perplexity(model,model\u001b[39m.\u001b[39;49mtest[i]))\n",
      "\u001b[1;32m/Users/anamikaseth/Desktop/Academics/Sem2202/ELL881/Assignment 1/Code/noSmoothing.ipynb Cell 10\u001b[0m in \u001b[0;36mperplexity\u001b[0;34m(model, sent)\u001b[0m\n\u001b[1;32m     <a href='vscode-notebook-cell:/Users/anamikaseth/Desktop/Academics/Sem2202/ELL881/Assignment%201/Code/noSmoothing.ipynb#ch0000010?line=42'>43</a>\u001b[0m \u001b[39mif\u001b[39;00m n\u001b[39m!=\u001b[39m\u001b[39m1\u001b[39m:context\u001b[39m.\u001b[39mpop(\u001b[39m0\u001b[39m);context\u001b[39m.\u001b[39mappend(wrd)\n\u001b[1;32m     <a href='vscode-notebook-cell:/Users/anamikaseth/Desktop/Academics/Sem2202/ELL881/Assignment%201/Code/noSmoothing.ipynb#ch0000010?line=43'>44</a>\u001b[0m \u001b[39m#try:\u001b[39;00m\n\u001b[1;32m     <a href='vscode-notebook-cell:/Users/anamikaseth/Desktop/Academics/Sem2202/ELL881/Assignment%201/Code/noSmoothing.ipynb#ch0000010?line=44'>45</a>\u001b[0m   \u001b[39m# pass\u001b[39;00m\n\u001b[0;32m---> <a href='vscode-notebook-cell:/Users/anamikaseth/Desktop/Academics/Sem2202/ELL881/Assignment%201/Code/noSmoothing.ipynb#ch0000010?line=45'>46</a>\u001b[0m perp\u001b[39m+\u001b[39m\u001b[39m=\u001b[39mmath\u001b[39m.\u001b[39;49mlog(prob_nosmooth(model,con,wrd))\n\u001b[1;32m     <a href='vscode-notebook-cell:/Users/anamikaseth/Desktop/Academics/Sem2202/ELL881/Assignment%201/Code/noSmoothing.ipynb#ch0000010?line=46'>47</a>\u001b[0m \u001b[39m#except:\u001b[39;00m\n\u001b[1;32m     <a href='vscode-notebook-cell:/Users/anamikaseth/Desktop/Academics/Sem2202/ELL881/Assignment%201/Code/noSmoothing.ipynb#ch0000010?line=47'>48</a>\u001b[0m perp\u001b[39m+\u001b[39m\u001b[39m=\u001b[39m\u001b[39m0\u001b[39m\n",
      "\u001b[0;31mValueError\u001b[0m: math domain error"
     ]
    }
   ],
   "source": [
    "def test(model):\n",
    "    rand = np.random.randint(0,len(model.test),10)\n",
    "    for i in rand:\n",
    "        print(' '.join(model.test[i]))\n",
    "        print(perplexity(model,model.test[i]))\n",
    "test(model)"
   ]
  }
 ],
 "metadata": {
  "kernelspec": {
   "display_name": "Python 3.10.0 64-bit",
   "language": "python",
   "name": "python3"
  },
  "language_info": {
   "codemirror_mode": {
    "name": "ipython",
    "version": 3
   },
   "file_extension": ".py",
   "mimetype": "text/x-python",
   "name": "python",
   "nbconvert_exporter": "python",
   "pygments_lexer": "ipython3",
   "version": "3.10.0"
  },
  "orig_nbformat": 4,
  "vscode": {
   "interpreter": {
    "hash": "aee8b7b246df8f9039afb4144a1f6fd8d2ca17a180786b69acc140d282b71a49"
   }
  }
 },
 "nbformat": 4,
 "nbformat_minor": 2
}
