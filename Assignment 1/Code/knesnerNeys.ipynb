{
 "cells": [
  {
   "cell_type": "code",
   "execution_count": 1,
   "metadata": {},
   "outputs": [],
   "source": [
    "from Ngram import Ngram\n",
    "import numpy as np \n",
    "import random\n",
    "import math\n",
    "from matplotlib import pyplot as pyplot\n",
    "bigram = Ngram(2)"
   ]
  },
  {
   "cell_type": "markdown",
   "metadata": {},
   "source": [
    "Doing only for bigrams"
   ]
  },
  {
   "cell_type": "code",
   "execution_count": 4,
   "metadata": {},
   "outputs": [
    {
     "name": "stdout",
     "output_type": "stream",
     "text": [
      "Generated Text : \n",
      "pursuer slammed professors style’s stalks lodgings producing subtly stronghold levicorpus occur continued luck leaden lurched blackmailed bulged claw sirius’s armfuls\n",
      "Perplexity = 54029.10141316617\n"
     ]
    }
   ],
   "source": [
    "def kns_prob(model,wi,wi_1,d=0.75):\n",
    "        lmabda = (d/model.vocab[wi_1])*model.binexts[wi_1]\n",
    "        term2 = lmabda*model.biprevs[wi]/model.tot_bigrams\n",
    "        term1 = max(0,model.context_count[(wi_1,wi)]-d)/(model.vocab[wi_1])\n",
    "        return term1+term2\n",
    "\n",
    "def generate_kns(model,text_len=20):\n",
    "        res = [];i=0;perp = 0\n",
    "        vocab = list(model.vocab.keys())\n",
    "        temp = list(np.array(list(bigram.vocab.values()))/sum(list(bigram.vocab.values())))\n",
    "        wi_1 = np.random.choice(list(bigram.vocab.keys()),1,temp)[0] #sampling a word from vocabulary keys as initial word\n",
    "        while i<text_len:\n",
    "            word_probs ={}\n",
    "            for wrd in vocab:\n",
    "                temp = kns_prob(model,wrd,wi_1)\n",
    "                if temp>0:\n",
    "                    word_probs[wrd]=temp\n",
    "                    \n",
    "            temp = wi_1\n",
    "            wi_1 = np.random.choice(list(word_probs.keys()),1,list(word_probs.values()))[0]\n",
    "            if wi_1 == '</s>':\n",
    "                wi_1 = '<s>'\n",
    "                res.append('.')\n",
    "            else:\n",
    "                try:\n",
    "                    perp+=math.log(word_probs[wi_1])\n",
    "                except :\n",
    "                     print(temp,wi_1)\n",
    "                     print(word_probs[wi_1])\n",
    "                     #print(word_probs)\n",
    "                res.append(wi_1)\n",
    "            i+=1\n",
    "        return ' '.join(res),math.exp(abs(perp)/len(res))\n",
    "\n",
    "text,perp = generate_kns(bigram,20)\n",
    "print(f\"Generated Text : \\n{text}\\nPerplexity = {perp}\")"
   ]
  },
  {
   "cell_type": "code",
   "execution_count": null,
   "metadata": {},
   "outputs": [],
   "source": []
  }
 ],
 "metadata": {
  "kernelspec": {
   "display_name": "Python 3.10.0 64-bit",
   "language": "python",
   "name": "python3"
  },
  "language_info": {
   "codemirror_mode": {
    "name": "ipython",
    "version": 3
   },
   "file_extension": ".py",
   "mimetype": "text/x-python",
   "name": "python",
   "nbconvert_exporter": "python",
   "pygments_lexer": "ipython3",
   "version": "3.10.0"
  },
  "orig_nbformat": 4,
  "vscode": {
   "interpreter": {
    "hash": "aee8b7b246df8f9039afb4144a1f6fd8d2ca17a180786b69acc140d282b71a49"
   }
  }
 },
 "nbformat": 4,
 "nbformat_minor": 2
}
