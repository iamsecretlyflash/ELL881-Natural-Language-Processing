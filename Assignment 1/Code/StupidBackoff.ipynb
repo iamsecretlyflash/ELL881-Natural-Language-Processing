{
 "cells": [
  {
   "cell_type": "code",
   "execution_count": 2,
   "metadata": {},
   "outputs": [],
   "source": [
    "from Ngram import Ngram\n",
    "import numpy as np \n",
    "import random\n",
    "import math\n",
    "from matplotlib import pyplot as pyplot\n",
    "models = {}\n",
    "for i in range(1,6):\n",
    "        models[str(i)+'gram'] = Ngram(i)"
   ]
  },
  {
   "cell_type": "code",
   "execution_count": 3,
   "metadata": {},
   "outputs": [],
   "source": [
    "def get_prob_stupid(model,conti_1,wi,a=0.4):\n",
    "        if len(conti_1)==0:\n",
    "            return models['1gram'].vocab[wi]/models['1gram'].occs_count[()]\n",
    "        temp = list(conti_1)\n",
    "        temp.append(wi)\n",
    "        conti = tuple(temp)\n",
    "        if conti in models[str(len(temp))+'gram'].context_count :\n",
    "            return models[str(len(temp))+'gram'].context_count[conti]/models[str(len(temp))+'gram'].occs_count[tuple(conti_1)]\n",
    "        else:\n",
    "            return a*get_prob_stupid(models,conti_1[1:], wi,a=a)\n",
    "\n",
    "def generate_stupid(models,n,alpha = 0.1,text_len=20):\n",
    "        context = ['<s>']*(n-1)\n",
    "        res = [];i=0;perp=0\n",
    "        while i<text_len:\n",
    "            wrd_probs = {}\n",
    "            con = tuple(context)\n",
    "            for wrd in list(models['1gram'].vocab.keys()):\n",
    "                wrd_probs[wrd] = get_prob_stupid(models,con,wrd,alpha)\n",
    "            wrd = np.random.choice(list(wrd_probs.keys()),1,list(wrd_probs.values()))[0]\n",
    "            perp+= math.log(wrd_probs[wrd])\n",
    "            if wrd == '</s>':\n",
    "                if n!=-1:context = ['<s>']*(n-1)\n",
    "                res.append('.')\n",
    "            else:\n",
    "                if n!=1:context.pop(0);context.append(wrd)\n",
    "                res.append(wrd)\n",
    "                i+=1\n",
    "        return ' '.join(res),math.exp(abs(perp/text_len))"
   ]
  },
  {
   "cell_type": "code",
   "execution_count": 14,
   "metadata": {},
   "outputs": [
    {
     "name": "stdout",
     "output_type": "stream",
     "text": [
      "Generated Text : \n",
      "chimed error closest likable about thickness burning keening pius beaked vacuum hallucin special stumbles gigantic papered revealing boyfriend well peaked\n",
      "Perplexity = 251766.82287540607\n"
     ]
    }
   ],
   "source": [
    "text,perp = generate_stupid(models,2,0.4)\n",
    "print(f'Generated Text : \\n{text}\\nPerplexity = {perp}')"
   ]
  },
  {
   "cell_type": "markdown",
   "metadata": {},
   "source": [
    "The perplexity is very high and the model is acting like a unigram model\n",
    "\n",
    "The high perplexity could be attributed to the fact that while 'backing off' we are reducing the probabilities by a factor of 0.4'\n",
    "\n",
    "Also, during generation we might end up with multiple contexts not in the higher gram models\n",
    "\n",
    "Quite stupid  tbh\n"
   ]
  },
  {
   "cell_type": "markdown",
   "metadata": {},
   "source": []
  }
 ],
 "metadata": {
  "kernelspec": {
   "display_name": "Python 3.10.0 64-bit",
   "language": "python",
   "name": "python3"
  },
  "language_info": {
   "codemirror_mode": {
    "name": "ipython",
    "version": 3
   },
   "file_extension": ".py",
   "mimetype": "text/x-python",
   "name": "python",
   "nbconvert_exporter": "python",
   "pygments_lexer": "ipython3",
   "version": "3.10.0"
  },
  "orig_nbformat": 4,
  "vscode": {
   "interpreter": {
    "hash": "aee8b7b246df8f9039afb4144a1f6fd8d2ca17a180786b69acc140d282b71a49"
   }
  }
 },
 "nbformat": 4,
 "nbformat_minor": 2
}
