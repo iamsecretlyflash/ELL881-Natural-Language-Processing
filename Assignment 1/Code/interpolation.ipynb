{
 "cells": [
  {
   "cell_type": "code",
   "execution_count": 2,
   "metadata": {},
   "outputs": [],
   "source": [
    "from Ngram import Ngram\n",
    "import numpy as np \n",
    "import random\n",
    "import math\n",
    "from matplotlib import pyplot as pyplot\n",
    "models = {}\n",
    "for i in range(1,4):\n",
    "        models[str(i)+'gram'] = Ngram(i)"
   ]
  },
  {
   "cell_type": "code",
   "execution_count": 3,
   "metadata": {},
   "outputs": [],
   "source": [
    "def prob(model,cont,wrd):\n",
    "        try:\n",
    "            denom = float(model.occs_count[cont])\n",
    "            temp = list(cont)\n",
    "            temp.append(wrd)\n",
    "            num = model.context_count[tuple(temp)]\n",
    "            return num/denom\n",
    "        except:\n",
    "            return 0\n",
    "def generate_interpolation(models,text_len,type = \"None\",l1=1/5,l2=3/6,l3=2/6):\n",
    "        conts = [[],['<s>'],['<s>','<s>']]\n",
    "        res = [];i = 0;perp=0\n",
    "        while i<text_len:\n",
    "            wrd_probs = {}\n",
    "            cons = [tuple(i) for i in conts]\n",
    "            for wrd in models['3gram'].occurences[cons[2]]:\n",
    "                    p1 = prob(models['1gram'],cons[0],wrd);p2 = prob(models['2gram'],cons[1],wrd);p3 = prob(models['3gram'],cons[2],wrd)\n",
    "                    wrd_probs[wrd] = p1*l1+p2*l2+p3*l3\n",
    "            wrd = np.random.choice(list(wrd_probs.keys()),1,list(wrd_probs.values()))[0]\n",
    "            perp+=math.log(wrd_probs[wrd])\n",
    "            if wrd == '</s>':\n",
    "                    conts = [[],['<s>'],['<s>','<s>']]\n",
    "                    res.append('.')\n",
    "            else:\n",
    "                    conts[1].pop(0); conts[1].append(wrd);conts[2].pop(0); conts[2].append(wrd);\n",
    "                    res.append(wrd)\n",
    "                    i+=1\n",
    "        return ' '.join(res),math.exp(abs(perp)/len(res))"
   ]
  },
  {
   "cell_type": "code",
   "execution_count": 17,
   "metadata": {},
   "outputs": [
    {
     "name": "stdout",
     "output_type": "stream",
     "text": [
      "narcissa knew that the only way she would be permitted to enter hogwarts and find her son was as part of the conquering army </s>\n",
      "3.7835156966601082\n",
      "the goblin stroked the sword and his black eyes roved from harry to hermione to ron and then back again </s>\n",
      "3.282952854525441\n",
      "they like punishment the carrows </s>\n",
      "1.3514947022370458\n",
      "harry dropped his eyes to the caption </s>\n",
      "1.592619747881574\n",
      "</s>\n",
      "1.0933034262661634\n",
      "they seemed as scared as harry whose heart was now throwing itself against his ribs as though determined to escape the body he was about to cast aside </s>\n",
      "4.293161039181335\n",
      "’ knew yeh mus’ be here knew what mus’ be happenin’ </s>\n",
      "2.1344407459046786\n",
      "but why he knows i’m after horcruxes — he’s keeping nagini close beside him — obviously i’m going to have to go to him to get near the thing — right said ron squaring his shoulders </s>\n",
      "5.282001134091189\n",
      "deeper and deeper into the forest she led him and harry walked quickly sure that when she stopped she would allow him to approach her properly </s>\n",
      "4.0405952250146004\n",
      "mr ollivander i’m sorry to disturb you harry said </s>\n",
      "1.863490152713655\n"
     ]
    }
   ],
   "source": [
    "def perplexity(sent):\n",
    "        if type(sent)==str:\n",
    "            sent = sent.split()\n",
    "        l1,l2,l3 = 0.3739111601036935, 0.48554817962017016, 0.1405406602761363\n",
    "        conts = [[],['<s>'],['<s>','<s>']]\n",
    "        perp=0\n",
    "        probs = 0\n",
    "        for wrd in sent:\n",
    "            cons = [tuple(i) for i in conts]\n",
    "            for wrd in models['3gram'].occurences[cons[2]]:\n",
    "                    p1 = prob(models['1gram'],cons[0],wrd);p2 = prob(models['2gram'],cons[1],wrd);p3 = prob(models['3gram'],cons[2],wrd)\n",
    "                    probs+=p1*l1+p2*l2+p3*l3\n",
    "\n",
    "            perp+=math.log(probs)\n",
    "            if wrd == '</s>' or wrd == '.':\n",
    "                    conts = [[],['<s>'],['<s>','<s>']]\n",
    "            else:\n",
    "                    conts[1].pop(0); conts[1].append(wrd);conts[2].pop(0); conts[2].append(wrd);\n",
    "        return math.exp(abs(perp)/len(sent))\n",
    "def test():\n",
    "    rand = np.random.randint(0,len(models['1gram'].test),10)\n",
    "    for i in rand:\n",
    "        print(' '.join(models['1gram'].test[i]))\n",
    "        print(perplexity(models['1gram'].test[i]))\n",
    "test()"
   ]
  },
  {
   "cell_type": "markdown",
   "metadata": {},
   "source": [
    "Calculating the  weights for interpolation using gradient descent"
   ]
  },
  {
   "cell_type": "code",
   "execution_count": 36,
   "metadata": {},
   "outputs": [
    {
     "name": "stdout",
     "output_type": "stream",
     "text": [
      "6485\n"
     ]
    }
   ],
   "source": [
    "sentences = models['1gram'].dev\n",
    "a1 = []\n",
    "cont3 = ['<s>','<s>'];cont1 = [];cont2 = ['<s>']\n",
    "z2 = 0;z3 = 0\n",
    "print(len(sentences))\n",
    "for i in range(len(sentences)):\n",
    "        for wrd in sentences[i]:\n",
    "                p1 = prob(models['1gram'],tuple(cont1),wrd);p2 = prob(models['2gram'],tuple(cont2),wrd);p3 = prob(models['3gram'],tuple(cont3),wrd)\n",
    "                cont2 = [wrd];cont3=[cont3[1],wrd]\n",
    "                if p1==0:\n",
    "                        continue\n",
    "                if p2 == 0: z2+=1\n",
    "                if p3 == 0: z3+=1\n",
    "                a1.append([p1,p2,p3])\n",
    "prob_arr = a1\n",
    "w1 = 1/3;w2 = 1/3;w3 = 1/3\n",
    "a1l = [];a2l=[];a3l=[]"
   ]
  },
  {
   "cell_type": "code",
   "execution_count": 48,
   "metadata": {},
   "outputs": [],
   "source": [
    "iters = 400\n",
    "lr = 0.01\n",
    "for i in range(iters):\n",
    "    sum2 = 0;sum3 = 0\n",
    "    for probs in prob_arr:\n",
    "            denom = (w1*probs[0]+w2*probs[1]+w3*probs[2])\n",
    "            sum2+= (probs[1]-probs[0])/denom\n",
    "            sum3+= (probs[2]-probs[0])/denom\n",
    "    sum2/=len(prob_arr);sum3/=len(prob_arr)\n",
    "    w2+=lr*sum2;w3+=lr*sum3\n",
    "    a1 = 1-w2-w3\n",
    "    a1l.append(w1);a2l.append(w2);a3l.append(w3)"
   ]
  },
  {
   "cell_type": "code",
   "execution_count": 5,
   "metadata": {},
   "outputs": [],
   "source": [
    "w1,w2,w3=(0.3739111601036935, 0.48554817962017016, 0.1405406602761363)"
   ]
  },
  {
   "cell_type": "code",
   "execution_count": 50,
   "metadata": {},
   "outputs": [
    {
     "data": {
      "text/plain": [
       "[<matplotlib.lines.Line2D at 0x151276050>]"
      ]
     },
     "execution_count": 50,
     "metadata": {},
     "output_type": "execute_result"
    },
    {
     "data": {
      "image/png": "[encoded data removed]",
      "text/plain": [
       "<Figure size 432x288 with 1 Axes>"
      ]
     },
     "metadata": {
      "needs_background": "light"
     },
     "output_type": "display_data"
    }
   ],
   "source": [
    "pyplot.plot(a1l)\n",
    "pyplot.plot(a2l)\n",
    "pyplot.plot(a3l)"
   ]
  },
  {
   "cell_type": "markdown",
   "metadata": {},
   "source": [
    "for unigram, bigram and trigram\n",
    "the values have converged\n",
    "\n",
    "w1 = 0.3739111601036935\n",
    "\n",
    "w2 =  0.48554817962017016\n",
    "\n",
    "w3 =  0.1405406602761363"
   ]
  },
  {
   "cell_type": "code",
   "execution_count": 52,
   "metadata": {},
   "outputs": [
    {
     "name": "stdout",
     "output_type": "stream",
     "text": [
      "The average perplexity for on training the weights over dev set =  37.83539239961653\n"
     ]
    }
   ],
   "source": [
    "p=0\n",
    "for i in range(300):\n",
    "    text,perp = (generate_interpolation(models,text_len=30,type = \"None\",l1=w1,l2=w2,l3=w3))\n",
    "    p+=perp\n",
    "print('The average perplexity for on training the weights over dev set = ', p/300)"
   ]
  },
  {
   "cell_type": "code",
   "execution_count": 12,
   "metadata": {},
   "outputs": [
    {
     "name": "stdout",
     "output_type": "stream",
     "text": [
      "Generated Text:\n",
      "court scribe percy ignatius weasley — hog warts ’ said weasley . gotchcd get off — be that long dirty blonde hair fell into bed rolled over . breathing very slowly dragging\n",
      "Perplexity = 31.409189597631137\n"
     ]
    }
   ],
   "source": [
    "text,perp = generate_interpolation(models,text_len=30,type = \"None\",l1=w1,l2=w2,l3=w3)\n",
    "print(f\"Generated Text:\\n{text}\\nPerplexity = {perp}\")"
   ]
  },
  {
   "cell_type": "markdown",
   "metadata": {},
   "source": [
    "#Training using train data"
   ]
  },
  {
   "cell_type": "code",
   "execution_count": 61,
   "metadata": {},
   "outputs": [
    {
     "name": "stdout",
     "output_type": "stream",
     "text": [
      "51876\n"
     ]
    }
   ],
   "source": [
    "sentences = models['1gram'].train\n",
    "prob_arr = []\n",
    "cont3 = ['<s>','<s>'];cont1 = [];cont2 = ['<s>']\n",
    "z2 = 0;z3 = 0\n",
    "print(len(sentences))\n",
    "for i in range(len(sentences)):\n",
    "        for wrd in sentences[i]:\n",
    "                p1 = prob(models['1gram'],tuple(cont1),wrd);p2 = prob(models['2gram'],tuple(cont2),wrd);p3 = prob(models['3gram'],tuple(cont3),wrd)\n",
    "                cont2 = [wrd];cont3=[cont3[1],wrd]\n",
    "                if p1==0:\n",
    "                        continue\n",
    "                if p2 == 0: z2+=1\n",
    "                if p3 == 0: z3+=1\n",
    "                prob_arr.append([p1,p2,p3])\n",
    "w1 = 1/3;w2 = 1/3;w3 = 1/3\n",
    "a1l = [];a2l=[];a3l=[]"
   ]
  },
  {
   "cell_type": "code",
   "execution_count": 66,
   "metadata": {},
   "outputs": [
    {
     "name": "stdout",
     "output_type": "stream",
     "text": [
      "0.07418814365867388 0.09189877146456114 0.833913084876765\n"
     ]
    },
    {
     "data": {
      "text/plain": [
       "[<matplotlib.lines.Line2D at 0x159ea45b0>]"
      ]
     },
     "execution_count": 66,
     "metadata": {},
     "output_type": "execute_result"
    },
    {
     "data": {
      "image/png": "[encoded data removed]",
      "text/plain": [
       "<Figure size 432x288 with 1 Axes>"
      ]
     },
     "metadata": {
      "needs_background": "light"
     },
     "output_type": "display_data"
    }
   ],
   "source": [
    "iters = 1200\n",
    "lr = 0.001\n",
    "for i in range(iters):\n",
    "    sum2 = 0;sum3 = 0\n",
    "    for probs in prob_arr:\n",
    "            denom = (w1*probs[0]+w2*probs[1]+w3*probs[2])\n",
    "            sum2+= (probs[1]-probs[0])/denom\n",
    "            sum3+= (probs[2]-probs[0])/denom\n",
    "    sum2/=len(prob_arr);sum3/=len(prob_arr)\n",
    "    w2+=lr*sum2;w3+=lr*sum3\n",
    "    w1 = 1-w2-w3\n",
    "    a1l.append(w1);a2l.append(w2);a3l.append(w3)\n",
    "print(w1,w2,w3)\n",
    "pyplot.plot(a1l)\n",
    "pyplot.plot(a2l)\n",
    "pyplot.plot(a3l)"
   ]
  },
  {
   "cell_type": "markdown",
   "metadata": {},
   "source": [
    "There doesn't appear to be a clear convergence in values for 1200 iterations\n",
    "\n",
    "But the it seems that the values will go towards 1 for w3 and towards 0 for other 2\n",
    "\n",
    "This is because p3 would give higher probability when training over train set"
   ]
  },
  {
   "cell_type": "markdown",
   "metadata": {},
   "source": []
  }
 ],
 "metadata": {
  "kernelspec": {
   "display_name": "Python 3.10.0 64-bit",
   "language": "python",
   "name": "python3"
  },
  "language_info": {
   "codemirror_mode": {
    "name": "ipython",
    "version": 3
   },
   "file_extension": ".py",
   "mimetype": "text/x-python",
   "name": "python",
   "nbconvert_exporter": "python",
   "pygments_lexer": "ipython3",
   "version": "3.10.0"
  },
  "orig_nbformat": 4,
  "vscode": {
   "interpreter": {
    "hash": "aee8b7b246df8f9039afb4144a1f6fd8d2ca17a180786b69acc140d282b71a49"
   }
  }
 },
 "nbformat": 4,
 "nbformat_minor": 2
}
